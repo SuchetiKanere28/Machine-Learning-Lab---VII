{
  "nbformat": 4,
  "nbformat_minor": 0,
  "metadata": {
    "colab": {
      "provenance": []
    },
    "kernelspec": {
      "name": "python3",
      "display_name": "Python 3"
    },
    "language_info": {
      "name": "python"
    }
  },
  "cells": [
    {
      "cell_type": "markdown",
      "source": [
        "## **To Explore Data Using PCA**"
      ],
      "metadata": {
        "id": "T1MS6E0zsnhx"
      }
    },
    {
      "cell_type": "code",
      "execution_count": 1,
      "metadata": {
        "id": "BKSZaXLrpXp8"
      },
      "outputs": [],
      "source": [
        "import numpy as np\n",
        "import pandas as pd\n",
        "import matplotlib.pyplot as plt\n",
        "import seaborn as sns"
      ]
    },
    {
      "cell_type": "code",
      "source": [
        "data = np.array([\n",
        "[2.5, 2.4, 1.2],\n",
        "[0.5, 0.7, 0.3],\n",
        "[2.2, 2.9, 1.4],\n",
        "[1.9, 2.2, 1.1],\n",
        "[3.1, 3.0, 1.7],\n",
        "[2.3, 2.7, 1.5],\n",
        "[2.0, 1.6, 0.9],\n",
        "[1.0, 1.1, 0.4],\n",
        "[1.5, 1.6, 0.8],\n",
        "[1.1, 0.9, 0.2]])"
      ],
      "metadata": {
        "id": "R5gYLdhxpr2J"
      },
      "execution_count": 2,
      "outputs": []
    },
    {
      "cell_type": "code",
      "source": [
        "#Step-2\n",
        "std_data = (data - data.mean()) / data.std()"
      ],
      "metadata": {
        "id": "JBF5zHn8qQNf"
      },
      "execution_count": 3,
      "outputs": []
    },
    {
      "cell_type": "code",
      "source": [
        "#Step-3\n",
        "cov_mtx = np.cov(std_data.T)"
      ],
      "metadata": {
        "id": "ueVoXGW7qhTv"
      },
      "execution_count": 4,
      "outputs": []
    },
    {
      "cell_type": "code",
      "source": [
        "#Step-4\n",
        "eig_values, eig_vectors = np.linalg.eig(cov_mtx)"
      ],
      "metadata": {
        "id": "4DeiDc2tqzUX"
      },
      "execution_count": 5,
      "outputs": []
    },
    {
      "cell_type": "code",
      "source": [
        "#Step-5\n",
        "sort_indices = np.argsort(eig_values)[::-1]\n",
        "sorted_eig_values = eig_values[sort_indices]\n",
        "sorted_eig_vectors = eig_vectors[:, sort_indices]"
      ],
      "metadata": {
        "id": "Vs45nGD5q-D3"
      },
      "execution_count": 6,
      "outputs": []
    },
    {
      "cell_type": "code",
      "source": [
        "#Step-6\n",
        "eig_vecs_subset = eig_vectors[:, :2]"
      ],
      "metadata": {
        "id": "A5DuFr7frJuv"
      },
      "execution_count": 7,
      "outputs": []
    },
    {
      "cell_type": "code",
      "source": [
        "#Step-7\n",
        "reduced_data = std_data.dot(eig_vecs_subset)\n",
        "reduced_df = pd.DataFrame(reduced_data, columns=['PC1', 'PC2'])"
      ],
      "metadata": {
        "id": "b-DvHpySrcXv"
      },
      "execution_count": 8,
      "outputs": []
    },
    {
      "cell_type": "code",
      "source": [
        "print(reduced_df)"
      ],
      "metadata": {
        "colab": {
          "base_uri": "https://localhost:8080/"
        },
        "id": "nqlb8E3jrygP",
        "outputId": "8c3f0a70-637f-408a-9c85-a05eccfbdae6"
      },
      "execution_count": 9,
      "outputs": [
        {
          "output_type": "stream",
          "name": "stdout",
          "text": [
            "        PC1       PC2\n",
            "0  1.221040  0.402793\n",
            "1 -2.135781 -0.063562\n",
            "2  1.507634 -0.294226\n",
            "3  0.554877 -0.003403\n",
            "4  2.418709  0.416297\n",
            "5  1.469286 -0.083515\n",
            "6  0.035763  0.572824\n",
            "7 -1.380533  0.104747\n",
            "8 -0.390932  0.120529\n",
            "9 -1.571094  0.396987\n"
          ]
        }
      ]
    },
    {
      "cell_type": "code",
      "source": [
        "plt.figure(figsize=(10, 6))\n",
        "plt.scatter(reduced_df['PC1'], reduced_df['PC2'], color = 'blue', edgecolor = 'k')\n",
        "plt.title('2D PCA Projection')\n",
        "plt.xlabel('PC1')\n",
        "plt.ylabel('PC2')\n",
        "plt.show()\n"
      ],
      "metadata": {
        "colab": {
          "base_uri": "https://localhost:8080/",
          "height": 564
        },
        "id": "K_wiQB4luBP5",
        "outputId": "5b39ebe1-c1f1-4623-866a-8d4b335001d7"
      },
      "execution_count": 10,
      "outputs": [
        {
          "output_type": "display_data",
          "data": {
            "text/plain": [
              "<Figure size 1000x600 with 1 Axes>"
            ],
            "image/png": "[encoded data removed]"
          },
          "metadata": {}
        }
      ]
    },
    {
      "cell_type": "code",
      "source": [],
      "metadata": {
        "id": "8a9TsVjxvrIy"
      },
      "execution_count": 10,
      "outputs": []
    }
  ]
}
